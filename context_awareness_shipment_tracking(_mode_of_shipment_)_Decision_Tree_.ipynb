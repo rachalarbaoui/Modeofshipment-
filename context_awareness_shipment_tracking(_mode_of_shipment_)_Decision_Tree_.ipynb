{
  "nbformat": 4,
  "nbformat_minor": 0,
  "metadata": {
    "colab": {
      "name": "context awareness shipment tracking( mode of shipment ) Decision Tree .ipynb",
      "provenance": [],
      "collapsed_sections": []
    },
    "kernelspec": {
      "name": "python3",
      "display_name": "Python 3"
    },
    "language_info": {
      "name": "python"
    }
  },
  "cells": [
    {
      "cell_type": "code",
      "metadata": {
        "id": "e31Tu-gjkm4t"
      },
      "source": [
        "import pandas as pd\n",
        "from matplotlib import pyplot as plt\n",
        "import numpy as np\n",
        "from sklearn.model_selection import train_test_split\n",
        "from sklearn.tree import DecisionTreeClassifier\n",
        "from sklearn import metrics\n",
        "from sklearn.preprocessing import LabelEncoder\n",
        "import pickle\n",
        "import seaborn as sns\n",
        "from sklearn.preprocessing import StandardScaler\n",
        "from sklearn.utils import resample\n",
        "from sklearn.preprocessing import scale\n",
        "from sklearn.model_selection import GridSearchCV\n"
      ],
      "execution_count": null,
      "outputs": []
    },
    {
      "cell_type": "code",
      "metadata": {
        "id": "zzITyOH6nIQW"
      },
      "source": [
        "from google.colab import drive\n",
        "drive.mount('/content/Drive')"
      ],
      "execution_count": null,
      "outputs": []
    },
    {
      "cell_type": "code",
      "metadata": {
        "id": "ZJOJbuCenJ9G",
        "colab": {
          "base_uri": "https://localhost:8080/",
          "height": 204
        },
        "outputId": "675fbbed-b037-41bb-8c95-b9fa38c100ca"
      },
      "source": [
        "df = pd.read_csv(\"/content/Drive/MyDrive/context awareness datasets/shipment tracking dataset/data.csv\")\n",
        "df.head()"
      ],
      "execution_count": null,
      "outputs": [
        {
          "output_type": "execute_result",
          "data": {
            "text/html": [
              "<div>\n",
              "<style scoped>\n",
              "    .dataframe tbody tr th:only-of-type {\n",
              "        vertical-align: middle;\n",
              "    }\n",
              "\n",
              "    .dataframe tbody tr th {\n",
              "        vertical-align: top;\n",
              "    }\n",
              "\n",
              "    .dataframe thead th {\n",
              "        text-align: right;\n",
              "    }\n",
              "</style>\n",
              "<table border=\"1\" class=\"dataframe\">\n",
              "  <thead>\n",
              "    <tr style=\"text-align: right;\">\n",
              "      <th></th>\n",
              "      <th>ID</th>\n",
              "      <th>Warehouse_block</th>\n",
              "      <th>Mode_of_Shipment</th>\n",
              "      <th>Customer_care_calls</th>\n",
              "      <th>Customer_rating</th>\n",
              "      <th>Cost_of_the_Product</th>\n",
              "      <th>Prior_purchases</th>\n",
              "      <th>Product_importance</th>\n",
              "      <th>Gender</th>\n",
              "      <th>Discount_offered</th>\n",
              "      <th>Weight_in_gms</th>\n",
              "      <th>Reached.on.Time_Y.N</th>\n",
              "    </tr>\n",
              "  </thead>\n",
              "  <tbody>\n",
              "    <tr>\n",
              "      <th>0</th>\n",
              "      <td>1</td>\n",
              "      <td>D</td>\n",
              "      <td>Flight</td>\n",
              "      <td>4</td>\n",
              "      <td>2</td>\n",
              "      <td>177</td>\n",
              "      <td>3</td>\n",
              "      <td>low</td>\n",
              "      <td>F</td>\n",
              "      <td>44</td>\n",
              "      <td>1233</td>\n",
              "      <td>1</td>\n",
              "    </tr>\n",
              "    <tr>\n",
              "      <th>1</th>\n",
              "      <td>2</td>\n",
              "      <td>F</td>\n",
              "      <td>Flight</td>\n",
              "      <td>4</td>\n",
              "      <td>5</td>\n",
              "      <td>216</td>\n",
              "      <td>2</td>\n",
              "      <td>low</td>\n",
              "      <td>M</td>\n",
              "      <td>59</td>\n",
              "      <td>3088</td>\n",
              "      <td>1</td>\n",
              "    </tr>\n",
              "    <tr>\n",
              "      <th>2</th>\n",
              "      <td>3</td>\n",
              "      <td>A</td>\n",
              "      <td>Flight</td>\n",
              "      <td>2</td>\n",
              "      <td>2</td>\n",
              "      <td>183</td>\n",
              "      <td>4</td>\n",
              "      <td>low</td>\n",
              "      <td>M</td>\n",
              "      <td>48</td>\n",
              "      <td>3374</td>\n",
              "      <td>1</td>\n",
              "    </tr>\n",
              "    <tr>\n",
              "      <th>3</th>\n",
              "      <td>4</td>\n",
              "      <td>B</td>\n",
              "      <td>Flight</td>\n",
              "      <td>3</td>\n",
              "      <td>3</td>\n",
              "      <td>176</td>\n",
              "      <td>4</td>\n",
              "      <td>medium</td>\n",
              "      <td>M</td>\n",
              "      <td>10</td>\n",
              "      <td>1177</td>\n",
              "      <td>1</td>\n",
              "    </tr>\n",
              "    <tr>\n",
              "      <th>4</th>\n",
              "      <td>5</td>\n",
              "      <td>C</td>\n",
              "      <td>Flight</td>\n",
              "      <td>2</td>\n",
              "      <td>2</td>\n",
              "      <td>184</td>\n",
              "      <td>3</td>\n",
              "      <td>medium</td>\n",
              "      <td>F</td>\n",
              "      <td>46</td>\n",
              "      <td>2484</td>\n",
              "      <td>1</td>\n",
              "    </tr>\n",
              "  </tbody>\n",
              "</table>\n",
              "</div>"
            ],
            "text/plain": [
              "   ID Warehouse_block  ... Weight_in_gms  Reached.on.Time_Y.N\n",
              "0   1               D  ...          1233                    1\n",
              "1   2               F  ...          3088                    1\n",
              "2   3               A  ...          3374                    1\n",
              "3   4               B  ...          1177                    1\n",
              "4   5               C  ...          2484                    1\n",
              "\n",
              "[5 rows x 12 columns]"
            ]
          },
          "metadata": {
            "tags": []
          },
          "execution_count": 245
        }
      ]
    },
    {
      "cell_type": "code",
      "metadata": {
        "id": "iTEhVCXlnMZW",
        "colab": {
          "base_uri": "https://localhost:8080/"
        },
        "outputId": "5939f17e-07f8-40b6-c4df-1f77275df55c"
      },
      "source": [
        "\n",
        "sizes = df['Reached.on.Time_Y.N'].value_counts(sort = 1)\n",
        "print(sizes)"
      ],
      "execution_count": null,
      "outputs": [
        {
          "output_type": "stream",
          "text": [
            "1    6563\n",
            "0    4436\n",
            "Name: Reached.on.Time_Y.N, dtype: int64\n"
          ],
          "name": "stdout"
        }
      ]
    },
    {
      "cell_type": "code",
      "metadata": {
        "colab": {
          "base_uri": "https://localhost:8080/",
          "height": 350
        },
        "id": "N3y85pZm0e7N",
        "outputId": "0076d07e-bde9-454f-ee08-16177f109fd5"
      },
      "source": [
        "plt.pie(sizes, autopct='%1.1f%%')"
      ],
      "execution_count": null,
      "outputs": [
        {
          "output_type": "execute_result",
          "data": {
            "text/plain": [
              "([<matplotlib.patches.Wedge at 0x7f22e4655dd0>,\n",
              "  <matplotlib.patches.Wedge at 0x7f22e45e3610>],\n",
              " [Text(-0.3290237775458344, 1.0496396304491695, ''),\n",
              "  Text(0.3290237775458339, -1.0496396304491697, '')],\n",
              " [Text(-0.17946751502500058, 0.5725307075177288, '59.7%'),\n",
              "  Text(0.17946751502500027, -0.5725307075177289, '40.3%')])"
            ]
          },
          "metadata": {
            "tags": []
          },
          "execution_count": 34
        },
        {
          "output_type": "display_data",
          "data": {
            "image/png": "[encoded data removed]",
            "text/plain": [
              "<Figure size 432x288 with 1 Axes>"
            ]
          },
          "metadata": {
            "tags": []
          }
        }
      ]
    },
    {
      "cell_type": "code",
      "metadata": {
        "colab": {
          "base_uri": "https://localhost:8080/"
        },
        "id": "54ZoMZ8Y0iUN",
        "outputId": "ac239a91-b0f6-46e2-f8d1-91b4cf9f1387"
      },
      "source": [
        "df.info()"
      ],
      "execution_count": null,
      "outputs": [
        {
          "output_type": "stream",
          "text": [
            "<class 'pandas.core.frame.DataFrame'>\n",
            "RangeIndex: 10999 entries, 0 to 10998\n",
            "Data columns (total 12 columns):\n",
            " #   Column               Non-Null Count  Dtype \n",
            "---  ------               --------------  ----- \n",
            " 0   ID                   10999 non-null  int64 \n",
            " 1   Warehouse_block      10999 non-null  object\n",
            " 2   Mode_of_Shipment     10999 non-null  object\n",
            " 3   Customer_care_calls  10999 non-null  int64 \n",
            " 4   Customer_rating      10999 non-null  int64 \n",
            " 5   Cost_of_the_Product  10999 non-null  int64 \n",
            " 6   Prior_purchases      10999 non-null  int64 \n",
            " 7   Product_importance   10999 non-null  object\n",
            " 8   Gender               10999 non-null  object\n",
            " 9   Discount_offered     10999 non-null  int64 \n",
            " 10  Weight_in_gms        10999 non-null  int64 \n",
            " 11  Reached.on.Time_Y.N  10999 non-null  int64 \n",
            "dtypes: int64(8), object(4)\n",
            "memory usage: 1.0+ MB\n"
          ],
          "name": "stdout"
        }
      ]
    },
    {
      "cell_type": "code",
      "metadata": {
        "colab": {
          "base_uri": "https://localhost:8080/",
          "height": 359
        },
        "id": "D0vyjaij0lWl",
        "outputId": "876db250-b942-44f4-8e13-89021e5c0e58"
      },
      "source": [
        "df.drop(['ID'], axis=1, inplace=True)\n",
        "\n",
        "df.head(10)"
      ],
      "execution_count": null,
      "outputs": [
        {
          "output_type": "execute_result",
          "data": {
            "text/html": [
              "<div>\n",
              "<style scoped>\n",
              "    .dataframe tbody tr th:only-of-type {\n",
              "        vertical-align: middle;\n",
              "    }\n",
              "\n",
              "    .dataframe tbody tr th {\n",
              "        vertical-align: top;\n",
              "    }\n",
              "\n",
              "    .dataframe thead th {\n",
              "        text-align: right;\n",
              "    }\n",
              "</style>\n",
              "<table border=\"1\" class=\"dataframe\">\n",
              "  <thead>\n",
              "    <tr style=\"text-align: right;\">\n",
              "      <th></th>\n",
              "      <th>Warehouse_block</th>\n",
              "      <th>Mode_of_Shipment</th>\n",
              "      <th>Customer_care_calls</th>\n",
              "      <th>Customer_rating</th>\n",
              "      <th>Cost_of_the_Product</th>\n",
              "      <th>Prior_purchases</th>\n",
              "      <th>Product_importance</th>\n",
              "      <th>Gender</th>\n",
              "      <th>Discount_offered</th>\n",
              "      <th>Weight_in_gms</th>\n",
              "      <th>Reached.on.Time_Y.N</th>\n",
              "    </tr>\n",
              "  </thead>\n",
              "  <tbody>\n",
              "    <tr>\n",
              "      <th>0</th>\n",
              "      <td>D</td>\n",
              "      <td>Flight</td>\n",
              "      <td>4</td>\n",
              "      <td>2</td>\n",
              "      <td>177</td>\n",
              "      <td>3</td>\n",
              "      <td>low</td>\n",
              "      <td>F</td>\n",
              "      <td>44</td>\n",
              "      <td>1233</td>\n",
              "      <td>1</td>\n",
              "    </tr>\n",
              "    <tr>\n",
              "      <th>1</th>\n",
              "      <td>F</td>\n",
              "      <td>Flight</td>\n",
              "      <td>4</td>\n",
              "      <td>5</td>\n",
              "      <td>216</td>\n",
              "      <td>2</td>\n",
              "      <td>low</td>\n",
              "      <td>M</td>\n",
              "      <td>59</td>\n",
              "      <td>3088</td>\n",
              "      <td>1</td>\n",
              "    </tr>\n",
              "    <tr>\n",
              "      <th>2</th>\n",
              "      <td>A</td>\n",
              "      <td>Flight</td>\n",
              "      <td>2</td>\n",
              "      <td>2</td>\n",
              "      <td>183</td>\n",
              "      <td>4</td>\n",
              "      <td>low</td>\n",
              "      <td>M</td>\n",
              "      <td>48</td>\n",
              "      <td>3374</td>\n",
              "      <td>1</td>\n",
              "    </tr>\n",
              "    <tr>\n",
              "      <th>3</th>\n",
              "      <td>B</td>\n",
              "      <td>Flight</td>\n",
              "      <td>3</td>\n",
              "      <td>3</td>\n",
              "      <td>176</td>\n",
              "      <td>4</td>\n",
              "      <td>medium</td>\n",
              "      <td>M</td>\n",
              "      <td>10</td>\n",
              "      <td>1177</td>\n",
              "      <td>1</td>\n",
              "    </tr>\n",
              "    <tr>\n",
              "      <th>4</th>\n",
              "      <td>C</td>\n",
              "      <td>Flight</td>\n",
              "      <td>2</td>\n",
              "      <td>2</td>\n",
              "      <td>184</td>\n",
              "      <td>3</td>\n",
              "      <td>medium</td>\n",
              "      <td>F</td>\n",
              "      <td>46</td>\n",
              "      <td>2484</td>\n",
              "      <td>1</td>\n",
              "    </tr>\n",
              "    <tr>\n",
              "      <th>5</th>\n",
              "      <td>F</td>\n",
              "      <td>Flight</td>\n",
              "      <td>3</td>\n",
              "      <td>1</td>\n",
              "      <td>162</td>\n",
              "      <td>3</td>\n",
              "      <td>medium</td>\n",
              "      <td>F</td>\n",
              "      <td>12</td>\n",
              "      <td>1417</td>\n",
              "      <td>1</td>\n",
              "    </tr>\n",
              "    <tr>\n",
              "      <th>6</th>\n",
              "      <td>D</td>\n",
              "      <td>Flight</td>\n",
              "      <td>3</td>\n",
              "      <td>4</td>\n",
              "      <td>250</td>\n",
              "      <td>3</td>\n",
              "      <td>low</td>\n",
              "      <td>F</td>\n",
              "      <td>3</td>\n",
              "      <td>2371</td>\n",
              "      <td>1</td>\n",
              "    </tr>\n",
              "    <tr>\n",
              "      <th>7</th>\n",
              "      <td>F</td>\n",
              "      <td>Flight</td>\n",
              "      <td>4</td>\n",
              "      <td>1</td>\n",
              "      <td>233</td>\n",
              "      <td>2</td>\n",
              "      <td>low</td>\n",
              "      <td>F</td>\n",
              "      <td>48</td>\n",
              "      <td>2804</td>\n",
              "      <td>1</td>\n",
              "    </tr>\n",
              "    <tr>\n",
              "      <th>8</th>\n",
              "      <td>A</td>\n",
              "      <td>Flight</td>\n",
              "      <td>3</td>\n",
              "      <td>4</td>\n",
              "      <td>150</td>\n",
              "      <td>3</td>\n",
              "      <td>low</td>\n",
              "      <td>F</td>\n",
              "      <td>11</td>\n",
              "      <td>1861</td>\n",
              "      <td>1</td>\n",
              "    </tr>\n",
              "    <tr>\n",
              "      <th>9</th>\n",
              "      <td>B</td>\n",
              "      <td>Flight</td>\n",
              "      <td>3</td>\n",
              "      <td>2</td>\n",
              "      <td>164</td>\n",
              "      <td>3</td>\n",
              "      <td>medium</td>\n",
              "      <td>F</td>\n",
              "      <td>29</td>\n",
              "      <td>1187</td>\n",
              "      <td>1</td>\n",
              "    </tr>\n",
              "  </tbody>\n",
              "</table>\n",
              "</div>"
            ],
            "text/plain": [
              "  Warehouse_block Mode_of_Shipment  ...  Weight_in_gms  Reached.on.Time_Y.N\n",
              "0               D           Flight  ...           1233                    1\n",
              "1               F           Flight  ...           3088                    1\n",
              "2               A           Flight  ...           3374                    1\n",
              "3               B           Flight  ...           1177                    1\n",
              "4               C           Flight  ...           2484                    1\n",
              "5               F           Flight  ...           1417                    1\n",
              "6               D           Flight  ...           2371                    1\n",
              "7               F           Flight  ...           2804                    1\n",
              "8               A           Flight  ...           1861                    1\n",
              "9               B           Flight  ...           1187                    1\n",
              "\n",
              "[10 rows x 11 columns]"
            ]
          },
          "metadata": {
            "tags": []
          },
          "execution_count": 246
        }
      ]
    },
    {
      "cell_type": "code",
      "metadata": {
        "id": "2VMrbnCW277e"
      },
      "source": [
        "df_reached = df[df['Reached.on.Time_Y.N'] == 0]\n",
        "df_not_reached = df[df['Reached.on.Time_Y.N'] == 1]"
      ],
      "execution_count": null,
      "outputs": []
    },
    {
      "cell_type": "code",
      "metadata": {
        "id": "ebu8SInC2-JF"
      },
      "source": [
        "df_reached_downsampled = resample(df_reached,replace=False,n_samples=4000,random_state=25) \n",
        "df_not_reached_downsampled = resample(df_not_reached,replace=False,n_samples=4000,random_state=25) "
      ],
      "execution_count": null,
      "outputs": []
    },
    {
      "cell_type": "code",
      "metadata": {
        "colab": {
          "base_uri": "https://localhost:8080/"
        },
        "id": "fPcdCHOa3AKy",
        "outputId": "8a1d3653-eac9-4d0a-f113-5d659967124f"
      },
      "source": [
        "df_downsampled = pd.concat([df_not_reached_downsampled,df_reached_downsampled])\n",
        "print(len(df_downsampled))"
      ],
      "execution_count": null,
      "outputs": [
        {
          "output_type": "stream",
          "text": [
            "8000\n"
          ],
          "name": "stdout"
        }
      ]
    },
    {
      "cell_type": "code",
      "metadata": {
        "colab": {
          "base_uri": "https://localhost:8080/",
          "height": 401
        },
        "id": "swPrsob13CLF",
        "outputId": "350c57d1-a65f-40a7-b30c-8519ebe392f0"
      },
      "source": [
        "\n",
        "sizes = df_downsampled['Reached.on.Time_Y.N'].value_counts(sort = 1)\n",
        "print(sizes)\n",
        "plt.pie(sizes, autopct='%1.1f%%')"
      ],
      "execution_count": null,
      "outputs": [
        {
          "output_type": "stream",
          "text": [
            "1    4000\n",
            "0    4000\n",
            "Name: Reached.on.Time_Y.N, dtype: int64\n"
          ],
          "name": "stdout"
        },
        {
          "output_type": "execute_result",
          "data": {
            "text/plain": [
              "([<matplotlib.patches.Wedge at 0x7f22e3be1a90>,\n",
              "  <matplotlib.patches.Wedge at 0x7f22e4152190>],\n",
              " [Text(6.735557395310444e-17, 1.1, ''),\n",
              "  Text(-2.0206672185931328e-16, -1.1, '')],\n",
              " [Text(3.6739403974420595e-17, 0.6, '50.0%'),\n",
              "  Text(-1.1021821192326178e-16, -0.6, '50.0%')])"
            ]
          },
          "metadata": {
            "tags": []
          },
          "execution_count": 491
        },
        {
          "output_type": "display_data",
          "data": {
            "image/png": "[encoded data removed]",
            "text/plain": [
              "<Figure size 432x288 with 1 Axes>"
            ]
          },
          "metadata": {
            "tags": []
          }
        }
      ]
    },
    {
      "cell_type": "code",
      "metadata": {
        "colab": {
          "base_uri": "https://localhost:8080/",
          "height": 359
        },
        "id": "gfhwuRY23end",
        "outputId": "be0ed96b-b180-4051-97e0-d702a51e8ada"
      },
      "source": [
        "df_downsampled.head(10)"
      ],
      "execution_count": null,
      "outputs": [
        {
          "output_type": "execute_result",
          "data": {
            "text/html": [
              "<div>\n",
              "<style scoped>\n",
              "    .dataframe tbody tr th:only-of-type {\n",
              "        vertical-align: middle;\n",
              "    }\n",
              "\n",
              "    .dataframe tbody tr th {\n",
              "        vertical-align: top;\n",
              "    }\n",
              "\n",
              "    .dataframe thead th {\n",
              "        text-align: right;\n",
              "    }\n",
              "</style>\n",
              "<table border=\"1\" class=\"dataframe\">\n",
              "  <thead>\n",
              "    <tr style=\"text-align: right;\">\n",
              "      <th></th>\n",
              "      <th>Warehouse_block</th>\n",
              "      <th>Mode_of_Shipment</th>\n",
              "      <th>Customer_care_calls</th>\n",
              "      <th>Customer_rating</th>\n",
              "      <th>Cost_of_the_Product</th>\n",
              "      <th>Prior_purchases</th>\n",
              "      <th>Product_importance</th>\n",
              "      <th>Gender</th>\n",
              "      <th>Discount_offered</th>\n",
              "      <th>Weight_in_gms</th>\n",
              "      <th>Reached.on.Time_Y.N</th>\n",
              "    </tr>\n",
              "  </thead>\n",
              "  <tbody>\n",
              "    <tr>\n",
              "      <th>2554</th>\n",
              "      <td>C</td>\n",
              "      <td>Ship</td>\n",
              "      <td>5</td>\n",
              "      <td>5</td>\n",
              "      <td>264</td>\n",
              "      <td>3</td>\n",
              "      <td>medium</td>\n",
              "      <td>F</td>\n",
              "      <td>23</td>\n",
              "      <td>2837</td>\n",
              "      <td>1</td>\n",
              "    </tr>\n",
              "    <tr>\n",
              "      <th>2529</th>\n",
              "      <td>B</td>\n",
              "      <td>Ship</td>\n",
              "      <td>2</td>\n",
              "      <td>1</td>\n",
              "      <td>255</td>\n",
              "      <td>3</td>\n",
              "      <td>low</td>\n",
              "      <td>M</td>\n",
              "      <td>19</td>\n",
              "      <td>1551</td>\n",
              "      <td>1</td>\n",
              "    </tr>\n",
              "    <tr>\n",
              "      <th>1073</th>\n",
              "      <td>F</td>\n",
              "      <td>Road</td>\n",
              "      <td>3</td>\n",
              "      <td>1</td>\n",
              "      <td>148</td>\n",
              "      <td>2</td>\n",
              "      <td>medium</td>\n",
              "      <td>M</td>\n",
              "      <td>34</td>\n",
              "      <td>1053</td>\n",
              "      <td>1</td>\n",
              "    </tr>\n",
              "    <tr>\n",
              "      <th>9432</th>\n",
              "      <td>D</td>\n",
              "      <td>Road</td>\n",
              "      <td>6</td>\n",
              "      <td>3</td>\n",
              "      <td>271</td>\n",
              "      <td>4</td>\n",
              "      <td>low</td>\n",
              "      <td>F</td>\n",
              "      <td>2</td>\n",
              "      <td>1364</td>\n",
              "      <td>1</td>\n",
              "    </tr>\n",
              "    <tr>\n",
              "      <th>2539</th>\n",
              "      <td>F</td>\n",
              "      <td>Ship</td>\n",
              "      <td>2</td>\n",
              "      <td>5</td>\n",
              "      <td>252</td>\n",
              "      <td>2</td>\n",
              "      <td>low</td>\n",
              "      <td>F</td>\n",
              "      <td>21</td>\n",
              "      <td>2070</td>\n",
              "      <td>1</td>\n",
              "    </tr>\n",
              "    <tr>\n",
              "      <th>10650</th>\n",
              "      <td>D</td>\n",
              "      <td>Ship</td>\n",
              "      <td>4</td>\n",
              "      <td>4</td>\n",
              "      <td>239</td>\n",
              "      <td>3</td>\n",
              "      <td>medium</td>\n",
              "      <td>F</td>\n",
              "      <td>7</td>\n",
              "      <td>5297</td>\n",
              "      <td>1</td>\n",
              "    </tr>\n",
              "    <tr>\n",
              "      <th>1377</th>\n",
              "      <td>B</td>\n",
              "      <td>Flight</td>\n",
              "      <td>4</td>\n",
              "      <td>3</td>\n",
              "      <td>258</td>\n",
              "      <td>2</td>\n",
              "      <td>high</td>\n",
              "      <td>M</td>\n",
              "      <td>11</td>\n",
              "      <td>2252</td>\n",
              "      <td>1</td>\n",
              "    </tr>\n",
              "    <tr>\n",
              "      <th>7252</th>\n",
              "      <td>C</td>\n",
              "      <td>Road</td>\n",
              "      <td>5</td>\n",
              "      <td>4</td>\n",
              "      <td>257</td>\n",
              "      <td>3</td>\n",
              "      <td>medium</td>\n",
              "      <td>F</td>\n",
              "      <td>3</td>\n",
              "      <td>4895</td>\n",
              "      <td>1</td>\n",
              "    </tr>\n",
              "    <tr>\n",
              "      <th>1170</th>\n",
              "      <td>D</td>\n",
              "      <td>Ship</td>\n",
              "      <td>5</td>\n",
              "      <td>1</td>\n",
              "      <td>198</td>\n",
              "      <td>5</td>\n",
              "      <td>medium</td>\n",
              "      <td>F</td>\n",
              "      <td>49</td>\n",
              "      <td>3187</td>\n",
              "      <td>1</td>\n",
              "    </tr>\n",
              "    <tr>\n",
              "      <th>10574</th>\n",
              "      <td>A</td>\n",
              "      <td>Ship</td>\n",
              "      <td>3</td>\n",
              "      <td>2</td>\n",
              "      <td>144</td>\n",
              "      <td>4</td>\n",
              "      <td>medium</td>\n",
              "      <td>M</td>\n",
              "      <td>8</td>\n",
              "      <td>4867</td>\n",
              "      <td>1</td>\n",
              "    </tr>\n",
              "  </tbody>\n",
              "</table>\n",
              "</div>"
            ],
            "text/plain": [
              "      Warehouse_block Mode_of_Shipment  ...  Weight_in_gms  Reached.on.Time_Y.N\n",
              "2554                C             Ship  ...           2837                    1\n",
              "2529                B             Ship  ...           1551                    1\n",
              "1073                F             Road  ...           1053                    1\n",
              "9432                D             Road  ...           1364                    1\n",
              "2539                F             Ship  ...           2070                    1\n",
              "10650               D             Ship  ...           5297                    1\n",
              "1377                B           Flight  ...           2252                    1\n",
              "7252                C             Road  ...           4895                    1\n",
              "1170                D             Ship  ...           3187                    1\n",
              "10574               A             Ship  ...           4867                    1\n",
              "\n",
              "[10 rows x 11 columns]"
            ]
          },
          "metadata": {
            "tags": []
          },
          "execution_count": 492
        }
      ]
    },
    {
      "cell_type": "code",
      "metadata": {
        "id": "FBGLU67_4ESm"
      },
      "source": [
        "df_downsampled.Product_importance[df_downsampled.Product_importance == 'low'] = 1\n",
        "df_downsampled.Product_importance[df_downsampled.Product_importance == 'medium'] = 2\n",
        "df_downsampled.Product_importance[df_downsampled.Product_importance == 'high'] = 3\n",
        "\n",
        "df_downsampled.Gender[df_downsampled.Gender == 'F'] = 0\n",
        "df_downsampled.Gender[df_downsampled.Gender == 'M'] = 1\n",
        "\n"
      ],
      "execution_count": null,
      "outputs": []
    },
    {
      "cell_type": "code",
      "metadata": {
        "colab": {
          "base_uri": "https://localhost:8080/",
          "height": 359
        },
        "id": "hzwDzzJi5JgF",
        "outputId": "c0c71481-98f9-43dd-b6bc-7bfdd9f0a332"
      },
      "source": [
        "df_downsampled.head(10)"
      ],
      "execution_count": null,
      "outputs": [
        {
          "output_type": "execute_result",
          "data": {
            "text/html": [
              "<div>\n",
              "<style scoped>\n",
              "    .dataframe tbody tr th:only-of-type {\n",
              "        vertical-align: middle;\n",
              "    }\n",
              "\n",
              "    .dataframe tbody tr th {\n",
              "        vertical-align: top;\n",
              "    }\n",
              "\n",
              "    .dataframe thead th {\n",
              "        text-align: right;\n",
              "    }\n",
              "</style>\n",
              "<table border=\"1\" class=\"dataframe\">\n",
              "  <thead>\n",
              "    <tr style=\"text-align: right;\">\n",
              "      <th></th>\n",
              "      <th>Warehouse_block</th>\n",
              "      <th>Mode_of_Shipment</th>\n",
              "      <th>Customer_care_calls</th>\n",
              "      <th>Customer_rating</th>\n",
              "      <th>Cost_of_the_Product</th>\n",
              "      <th>Prior_purchases</th>\n",
              "      <th>Product_importance</th>\n",
              "      <th>Gender</th>\n",
              "      <th>Discount_offered</th>\n",
              "      <th>Weight_in_gms</th>\n",
              "      <th>Reached.on.Time_Y.N</th>\n",
              "    </tr>\n",
              "  </thead>\n",
              "  <tbody>\n",
              "    <tr>\n",
              "      <th>2554</th>\n",
              "      <td>C</td>\n",
              "      <td>Ship</td>\n",
              "      <td>5</td>\n",
              "      <td>5</td>\n",
              "      <td>264</td>\n",
              "      <td>3</td>\n",
              "      <td>2</td>\n",
              "      <td>0</td>\n",
              "      <td>23</td>\n",
              "      <td>2837</td>\n",
              "      <td>1</td>\n",
              "    </tr>\n",
              "    <tr>\n",
              "      <th>2529</th>\n",
              "      <td>B</td>\n",
              "      <td>Ship</td>\n",
              "      <td>2</td>\n",
              "      <td>1</td>\n",
              "      <td>255</td>\n",
              "      <td>3</td>\n",
              "      <td>1</td>\n",
              "      <td>1</td>\n",
              "      <td>19</td>\n",
              "      <td>1551</td>\n",
              "      <td>1</td>\n",
              "    </tr>\n",
              "    <tr>\n",
              "      <th>1073</th>\n",
              "      <td>F</td>\n",
              "      <td>Road</td>\n",
              "      <td>3</td>\n",
              "      <td>1</td>\n",
              "      <td>148</td>\n",
              "      <td>2</td>\n",
              "      <td>2</td>\n",
              "      <td>1</td>\n",
              "      <td>34</td>\n",
              "      <td>1053</td>\n",
              "      <td>1</td>\n",
              "    </tr>\n",
              "    <tr>\n",
              "      <th>9432</th>\n",
              "      <td>D</td>\n",
              "      <td>Road</td>\n",
              "      <td>6</td>\n",
              "      <td>3</td>\n",
              "      <td>271</td>\n",
              "      <td>4</td>\n",
              "      <td>1</td>\n",
              "      <td>0</td>\n",
              "      <td>2</td>\n",
              "      <td>1364</td>\n",
              "      <td>1</td>\n",
              "    </tr>\n",
              "    <tr>\n",
              "      <th>2539</th>\n",
              "      <td>F</td>\n",
              "      <td>Ship</td>\n",
              "      <td>2</td>\n",
              "      <td>5</td>\n",
              "      <td>252</td>\n",
              "      <td>2</td>\n",
              "      <td>1</td>\n",
              "      <td>0</td>\n",
              "      <td>21</td>\n",
              "      <td>2070</td>\n",
              "      <td>1</td>\n",
              "    </tr>\n",
              "    <tr>\n",
              "      <th>10650</th>\n",
              "      <td>D</td>\n",
              "      <td>Ship</td>\n",
              "      <td>4</td>\n",
              "      <td>4</td>\n",
              "      <td>239</td>\n",
              "      <td>3</td>\n",
              "      <td>2</td>\n",
              "      <td>0</td>\n",
              "      <td>7</td>\n",
              "      <td>5297</td>\n",
              "      <td>1</td>\n",
              "    </tr>\n",
              "    <tr>\n",
              "      <th>1377</th>\n",
              "      <td>B</td>\n",
              "      <td>Flight</td>\n",
              "      <td>4</td>\n",
              "      <td>3</td>\n",
              "      <td>258</td>\n",
              "      <td>2</td>\n",
              "      <td>3</td>\n",
              "      <td>1</td>\n",
              "      <td>11</td>\n",
              "      <td>2252</td>\n",
              "      <td>1</td>\n",
              "    </tr>\n",
              "    <tr>\n",
              "      <th>7252</th>\n",
              "      <td>C</td>\n",
              "      <td>Road</td>\n",
              "      <td>5</td>\n",
              "      <td>4</td>\n",
              "      <td>257</td>\n",
              "      <td>3</td>\n",
              "      <td>2</td>\n",
              "      <td>0</td>\n",
              "      <td>3</td>\n",
              "      <td>4895</td>\n",
              "      <td>1</td>\n",
              "    </tr>\n",
              "    <tr>\n",
              "      <th>1170</th>\n",
              "      <td>D</td>\n",
              "      <td>Ship</td>\n",
              "      <td>5</td>\n",
              "      <td>1</td>\n",
              "      <td>198</td>\n",
              "      <td>5</td>\n",
              "      <td>2</td>\n",
              "      <td>0</td>\n",
              "      <td>49</td>\n",
              "      <td>3187</td>\n",
              "      <td>1</td>\n",
              "    </tr>\n",
              "    <tr>\n",
              "      <th>10574</th>\n",
              "      <td>A</td>\n",
              "      <td>Ship</td>\n",
              "      <td>3</td>\n",
              "      <td>2</td>\n",
              "      <td>144</td>\n",
              "      <td>4</td>\n",
              "      <td>2</td>\n",
              "      <td>1</td>\n",
              "      <td>8</td>\n",
              "      <td>4867</td>\n",
              "      <td>1</td>\n",
              "    </tr>\n",
              "  </tbody>\n",
              "</table>\n",
              "</div>"
            ],
            "text/plain": [
              "      Warehouse_block Mode_of_Shipment  ...  Weight_in_gms  Reached.on.Time_Y.N\n",
              "2554                C             Ship  ...           2837                    1\n",
              "2529                B             Ship  ...           1551                    1\n",
              "1073                F             Road  ...           1053                    1\n",
              "9432                D             Road  ...           1364                    1\n",
              "2539                F             Ship  ...           2070                    1\n",
              "10650               D             Ship  ...           5297                    1\n",
              "1377                B           Flight  ...           2252                    1\n",
              "7252                C             Road  ...           4895                    1\n",
              "1170                D             Ship  ...           3187                    1\n",
              "10574               A             Ship  ...           4867                    1\n",
              "\n",
              "[10 rows x 11 columns]"
            ]
          },
          "metadata": {
            "tags": []
          },
          "execution_count": 345
        }
      ]
    },
    {
      "cell_type": "code",
      "metadata": {
        "colab": {
          "base_uri": "https://localhost:8080/",
          "height": 224
        },
        "id": "3LsoAIh85VuE",
        "outputId": "0f9be70c-ad06-465e-cf15-0bf52e60f5e2"
      },
      "source": [
        "df_encoded=pd.get_dummies(df_downsampled,columns=['Warehouse_block'])\n",
        "df_encoded.head()"
      ],
      "execution_count": null,
      "outputs": [
        {
          "output_type": "execute_result",
          "data": {
            "text/html": [
              "<div>\n",
              "<style scoped>\n",
              "    .dataframe tbody tr th:only-of-type {\n",
              "        vertical-align: middle;\n",
              "    }\n",
              "\n",
              "    .dataframe tbody tr th {\n",
              "        vertical-align: top;\n",
              "    }\n",
              "\n",
              "    .dataframe thead th {\n",
              "        text-align: right;\n",
              "    }\n",
              "</style>\n",
              "<table border=\"1\" class=\"dataframe\">\n",
              "  <thead>\n",
              "    <tr style=\"text-align: right;\">\n",
              "      <th></th>\n",
              "      <th>Mode_of_Shipment</th>\n",
              "      <th>Customer_care_calls</th>\n",
              "      <th>Customer_rating</th>\n",
              "      <th>Cost_of_the_Product</th>\n",
              "      <th>Prior_purchases</th>\n",
              "      <th>Product_importance</th>\n",
              "      <th>Gender</th>\n",
              "      <th>Discount_offered</th>\n",
              "      <th>Weight_in_gms</th>\n",
              "      <th>Reached.on.Time_Y.N</th>\n",
              "      <th>Warehouse_block_A</th>\n",
              "      <th>Warehouse_block_B</th>\n",
              "      <th>Warehouse_block_C</th>\n",
              "      <th>Warehouse_block_D</th>\n",
              "      <th>Warehouse_block_F</th>\n",
              "    </tr>\n",
              "  </thead>\n",
              "  <tbody>\n",
              "    <tr>\n",
              "      <th>2554</th>\n",
              "      <td>Ship</td>\n",
              "      <td>5</td>\n",
              "      <td>5</td>\n",
              "      <td>264</td>\n",
              "      <td>3</td>\n",
              "      <td>2</td>\n",
              "      <td>0</td>\n",
              "      <td>23</td>\n",
              "      <td>2837</td>\n",
              "      <td>1</td>\n",
              "      <td>0</td>\n",
              "      <td>0</td>\n",
              "      <td>1</td>\n",
              "      <td>0</td>\n",
              "      <td>0</td>\n",
              "    </tr>\n",
              "    <tr>\n",
              "      <th>2529</th>\n",
              "      <td>Ship</td>\n",
              "      <td>2</td>\n",
              "      <td>1</td>\n",
              "      <td>255</td>\n",
              "      <td>3</td>\n",
              "      <td>1</td>\n",
              "      <td>1</td>\n",
              "      <td>19</td>\n",
              "      <td>1551</td>\n",
              "      <td>1</td>\n",
              "      <td>0</td>\n",
              "      <td>1</td>\n",
              "      <td>0</td>\n",
              "      <td>0</td>\n",
              "      <td>0</td>\n",
              "    </tr>\n",
              "    <tr>\n",
              "      <th>1073</th>\n",
              "      <td>Road</td>\n",
              "      <td>3</td>\n",
              "      <td>1</td>\n",
              "      <td>148</td>\n",
              "      <td>2</td>\n",
              "      <td>2</td>\n",
              "      <td>1</td>\n",
              "      <td>34</td>\n",
              "      <td>1053</td>\n",
              "      <td>1</td>\n",
              "      <td>0</td>\n",
              "      <td>0</td>\n",
              "      <td>0</td>\n",
              "      <td>0</td>\n",
              "      <td>1</td>\n",
              "    </tr>\n",
              "    <tr>\n",
              "      <th>9432</th>\n",
              "      <td>Road</td>\n",
              "      <td>6</td>\n",
              "      <td>3</td>\n",
              "      <td>271</td>\n",
              "      <td>4</td>\n",
              "      <td>1</td>\n",
              "      <td>0</td>\n",
              "      <td>2</td>\n",
              "      <td>1364</td>\n",
              "      <td>1</td>\n",
              "      <td>0</td>\n",
              "      <td>0</td>\n",
              "      <td>0</td>\n",
              "      <td>1</td>\n",
              "      <td>0</td>\n",
              "    </tr>\n",
              "    <tr>\n",
              "      <th>2539</th>\n",
              "      <td>Ship</td>\n",
              "      <td>2</td>\n",
              "      <td>5</td>\n",
              "      <td>252</td>\n",
              "      <td>2</td>\n",
              "      <td>1</td>\n",
              "      <td>0</td>\n",
              "      <td>21</td>\n",
              "      <td>2070</td>\n",
              "      <td>1</td>\n",
              "      <td>0</td>\n",
              "      <td>0</td>\n",
              "      <td>0</td>\n",
              "      <td>0</td>\n",
              "      <td>1</td>\n",
              "    </tr>\n",
              "  </tbody>\n",
              "</table>\n",
              "</div>"
            ],
            "text/plain": [
              "     Mode_of_Shipment  ...  Warehouse_block_F\n",
              "2554             Ship  ...                  0\n",
              "2529             Ship  ...                  0\n",
              "1073             Road  ...                  1\n",
              "9432             Road  ...                  0\n",
              "2539             Ship  ...                  1\n",
              "\n",
              "[5 rows x 15 columns]"
            ]
          },
          "metadata": {
            "tags": []
          },
          "execution_count": 494
        }
      ]
    },
    {
      "cell_type": "code",
      "metadata": {
        "colab": {
          "base_uri": "https://localhost:8080/",
          "height": 469
        },
        "id": "mGo4MVRB67S0",
        "outputId": "ee505f55-1f87-4610-dab8-2df81ae0c760"
      },
      "source": [
        "#nous avons choisi l'attribut ( mode of shipment ) pour faire notre approche \n",
        "sizes = df_encoded['Mode_of_Shipment'].value_counts(sort = 1)\n",
        "print(sizes)\n",
        "plt.pie(sizes, autopct='%1.1f%%')"
      ],
      "execution_count": null,
      "outputs": [
        {
          "output_type": "stream",
          "text": [
            "Ship      5434\n",
            "Road      1296\n",
            "Flight    1270\n",
            "Name: Mode_of_Shipment, dtype: int64\n"
          ],
          "name": "stdout"
        },
        {
          "output_type": "execute_result",
          "data": {
            "text/plain": [
              "([<matplotlib.patches.Wedge at 0x7f22e39a5e10>,\n",
              "  <matplotlib.patches.Wedge at 0x7f22e39a5450>,\n",
              "  <matplotlib.patches.Wedge at 0x7f22e39b6750>],\n",
              " [Text(-0.5872195050911498, 0.9301468985275957, ''),\n",
              "  Text(0.0707939667526323, -1.0977195517396177, ''),\n",
              "  Text(0.9660109405669344, -0.5261395848109006, '')],\n",
              " [Text(-0.3203015482315363, 0.5073528537423249, '67.9%'),\n",
              "  Text(0.03861489095598125, -0.5987561191307005, '16.2%'),\n",
              "  Text(0.526915058491055, -0.286985228078673, '15.9%')])"
            ]
          },
          "metadata": {
            "tags": []
          },
          "execution_count": 495
        },
        {
          "output_type": "display_data",
          "data": {
            "image/png": "[encoded data removed]",
            "text/plain": [
              "<Figure size 432x288 with 1 Axes>"
            ]
          },
          "metadata": {
            "tags": []
          }
        }
      ]
    },
    {
      "cell_type": "code",
      "metadata": {
        "id": "5h-wUWV26cxt"
      },
      "source": [
        "df_flight = df_encoded[df_encoded['Mode_of_Shipment'] == 'Flight']\n",
        "df_ship = df_encoded[df_encoded['Mode_of_Shipment'] == 'Ship']\n",
        "df_road = df_encoded[df_encoded['Mode_of_Shipment'] == 'Road']"
      ],
      "execution_count": null,
      "outputs": []
    },
    {
      "cell_type": "code",
      "metadata": {
        "colab": {
          "base_uri": "https://localhost:8080/",
          "height": 224
        },
        "id": "cKD1Jp5n839-",
        "outputId": "11ce6d42-c8e0-4e4e-f867-1bd24fb48446"
      },
      "source": [
        "df_flight.head()\n",
        "#df_ship.head()\n",
        "#df_road.head()"
      ],
      "execution_count": null,
      "outputs": [
        {
          "output_type": "execute_result",
          "data": {
            "text/html": [
              "<div>\n",
              "<style scoped>\n",
              "    .dataframe tbody tr th:only-of-type {\n",
              "        vertical-align: middle;\n",
              "    }\n",
              "\n",
              "    .dataframe tbody tr th {\n",
              "        vertical-align: top;\n",
              "    }\n",
              "\n",
              "    .dataframe thead th {\n",
              "        text-align: right;\n",
              "    }\n",
              "</style>\n",
              "<table border=\"1\" class=\"dataframe\">\n",
              "  <thead>\n",
              "    <tr style=\"text-align: right;\">\n",
              "      <th></th>\n",
              "      <th>Mode_of_Shipment</th>\n",
              "      <th>Customer_care_calls</th>\n",
              "      <th>Customer_rating</th>\n",
              "      <th>Cost_of_the_Product</th>\n",
              "      <th>Prior_purchases</th>\n",
              "      <th>Product_importance</th>\n",
              "      <th>Gender</th>\n",
              "      <th>Discount_offered</th>\n",
              "      <th>Weight_in_gms</th>\n",
              "      <th>Reached.on.Time_Y.N</th>\n",
              "      <th>Warehouse_block_A</th>\n",
              "      <th>Warehouse_block_B</th>\n",
              "      <th>Warehouse_block_C</th>\n",
              "      <th>Warehouse_block_D</th>\n",
              "      <th>Warehouse_block_F</th>\n",
              "    </tr>\n",
              "  </thead>\n",
              "  <tbody>\n",
              "    <tr>\n",
              "      <th>1377</th>\n",
              "      <td>Flight</td>\n",
              "      <td>4</td>\n",
              "      <td>3</td>\n",
              "      <td>258</td>\n",
              "      <td>2</td>\n",
              "      <td>3</td>\n",
              "      <td>1</td>\n",
              "      <td>11</td>\n",
              "      <td>2252</td>\n",
              "      <td>1</td>\n",
              "      <td>0</td>\n",
              "      <td>1</td>\n",
              "      <td>0</td>\n",
              "      <td>0</td>\n",
              "      <td>0</td>\n",
              "    </tr>\n",
              "    <tr>\n",
              "      <th>2473</th>\n",
              "      <td>Flight</td>\n",
              "      <td>5</td>\n",
              "      <td>1</td>\n",
              "      <td>241</td>\n",
              "      <td>4</td>\n",
              "      <td>2</td>\n",
              "      <td>0</td>\n",
              "      <td>19</td>\n",
              "      <td>2193</td>\n",
              "      <td>1</td>\n",
              "      <td>0</td>\n",
              "      <td>0</td>\n",
              "      <td>0</td>\n",
              "      <td>0</td>\n",
              "      <td>1</td>\n",
              "    </tr>\n",
              "    <tr>\n",
              "      <th>281</th>\n",
              "      <td>Flight</td>\n",
              "      <td>5</td>\n",
              "      <td>4</td>\n",
              "      <td>147</td>\n",
              "      <td>3</td>\n",
              "      <td>2</td>\n",
              "      <td>1</td>\n",
              "      <td>23</td>\n",
              "      <td>1132</td>\n",
              "      <td>1</td>\n",
              "      <td>0</td>\n",
              "      <td>0</td>\n",
              "      <td>0</td>\n",
              "      <td>0</td>\n",
              "      <td>1</td>\n",
              "    </tr>\n",
              "    <tr>\n",
              "      <th>8083</th>\n",
              "      <td>Flight</td>\n",
              "      <td>4</td>\n",
              "      <td>4</td>\n",
              "      <td>175</td>\n",
              "      <td>3</td>\n",
              "      <td>1</td>\n",
              "      <td>0</td>\n",
              "      <td>6</td>\n",
              "      <td>4600</td>\n",
              "      <td>1</td>\n",
              "      <td>0</td>\n",
              "      <td>0</td>\n",
              "      <td>0</td>\n",
              "      <td>0</td>\n",
              "      <td>1</td>\n",
              "    </tr>\n",
              "    <tr>\n",
              "      <th>2738</th>\n",
              "      <td>Flight</td>\n",
              "      <td>5</td>\n",
              "      <td>4</td>\n",
              "      <td>226</td>\n",
              "      <td>3</td>\n",
              "      <td>1</td>\n",
              "      <td>0</td>\n",
              "      <td>46</td>\n",
              "      <td>3149</td>\n",
              "      <td>1</td>\n",
              "      <td>1</td>\n",
              "      <td>0</td>\n",
              "      <td>0</td>\n",
              "      <td>0</td>\n",
              "      <td>0</td>\n",
              "    </tr>\n",
              "  </tbody>\n",
              "</table>\n",
              "</div>"
            ],
            "text/plain": [
              "     Mode_of_Shipment  ...  Warehouse_block_F\n",
              "1377           Flight  ...                  0\n",
              "2473           Flight  ...                  1\n",
              "281            Flight  ...                  1\n",
              "8083           Flight  ...                  1\n",
              "2738           Flight  ...                  0\n",
              "\n",
              "[5 rows x 15 columns]"
            ]
          },
          "metadata": {
            "tags": []
          },
          "execution_count": 497
        }
      ]
    },
    {
      "cell_type": "code",
      "metadata": {
        "id": "TmjKSVyL9PB0"
      },
      "source": [
        "df_ship.drop(['Mode_of_Shipment'], axis=1, inplace=True)\n",
        "df_flight.drop(['Mode_of_Shipment'], axis=1, inplace=True)\n",
        "df_road.drop(['Mode_of_Shipment'], axis=1, inplace=True)\n"
      ],
      "execution_count": null,
      "outputs": []
    },
    {
      "cell_type": "code",
      "metadata": {
        "id": "VWqWCZ-09qfG"
      },
      "source": [
        "X1 = df_flight.drop(\"Reached.on.Time_Y.N\", axis = 1)\n",
        "Y1 = df_flight['Reached.on.Time_Y.N']\n",
        "\n",
        "X2 = df_ship.drop(\"Reached.on.Time_Y.N\", axis = 1)\n",
        "Y2 = df_ship['Reached.on.Time_Y.N']\n",
        "\n",
        "X3 = df_road.drop(\"Reached.on.Time_Y.N\", axis = 1)\n",
        "Y3 = df_road['Reached.on.Time_Y.N']"
      ],
      "execution_count": null,
      "outputs": []
    },
    {
      "cell_type": "code",
      "metadata": {
        "id": "YMXYUIQa9-6F"
      },
      "source": [
        "X_train1, X_test1, y_train1, y_test1 = train_test_split(X1, Y1, test_size=0.2, random_state=42,shuffle = True)\n",
        "\n",
        "X_train2, X_test2, y_train2, y_test2 = train_test_split(X2, Y2, test_size=0.2, random_state=42,shuffle = True)\n",
        "\n",
        "X_train3, X_test3, y_train3, y_test3 = train_test_split(X3, Y3, test_size=0.2, random_state=42,shuffle = True)"
      ],
      "execution_count": null,
      "outputs": []
    },
    {
      "cell_type": "code",
      "metadata": {
        "id": "yMHBYKdE-SRn"
      },
      "source": [
        "#nous avons reentraîner chaque modéle (catégorie ) et le teste et voir si sa précision dépasse celle du modéle générale ou pas \n",
        "#pour le premiéer modéle( catégorie 1=flight) \n",
        "model1=DecisionTreeClassifier()"
      ],
      "execution_count": null,
      "outputs": []
    },
    {
      "cell_type": "code",
      "metadata": {
        "colab": {
          "base_uri": "https://localhost:8080/"
        },
        "id": "Cbc5lE1T-mP0",
        "outputId": "8502f3a4-316c-4907-9295-cbcf447581df"
      },
      "source": [
        "model1.fit(X_train1,y_train1)"
      ],
      "execution_count": null,
      "outputs": [
        {
          "output_type": "execute_result",
          "data": {
            "text/plain": [
              "DecisionTreeClassifier(ccp_alpha=0.0, class_weight=None, criterion='gini',\n",
              "                       max_depth=None, max_features=None, max_leaf_nodes=None,\n",
              "                       min_impurity_decrease=0.0, min_impurity_split=None,\n",
              "                       min_samples_leaf=1, min_samples_split=2,\n",
              "                       min_weight_fraction_leaf=0.0, presort='deprecated',\n",
              "                       random_state=None, splitter='best')"
            ]
          },
          "metadata": {
            "tags": []
          },
          "execution_count": 502
        }
      ]
    },
    {
      "cell_type": "code",
      "metadata": {
        "id": "ejazvMEW-rKU"
      },
      "source": [
        "prediction_test1 = model1.predict(X_test1)"
      ],
      "execution_count": null,
      "outputs": []
    },
    {
      "cell_type": "code",
      "metadata": {
        "colab": {
          "base_uri": "https://localhost:8080/"
        },
        "id": "c7aS-Y64-vpN",
        "outputId": "0cc6905b-f7fc-48e3-80e1-f4f54985e190"
      },
      "source": [
        "#L'Accuracy\n",
        "print (\"Accuracy = \", metrics.accuracy_score(y_test1, prediction_test1))"
      ],
      "execution_count": null,
      "outputs": [
        {
          "output_type": "stream",
          "text": [
            "Accuracy =  0.6811023622047244\n"
          ],
          "name": "stdout"
        }
      ]
    },
    {
      "cell_type": "code",
      "metadata": {
        "id": "ZTYozO3Y-4z0"
      },
      "source": [
        "#nous avons essayé d'augmenté l'Accuracy , en utilisant l'Accuracy global \n",
        "param_grid = [\n",
        "              {'max_depth' : list(range(2,99)),\n",
        "               'criterion' :['gini', 'entropy']},\n",
        "                       \n",
        "                       ]"
      ],
      "execution_count": null,
      "outputs": []
    },
    {
      "cell_type": "code",
      "metadata": {
        "id": "BQRXEYFR_Bac"
      },
      "source": [
        "optimal_params1 = GridSearchCV(\n",
        "    DecisionTreeClassifier(),\n",
        "    param_grid,\n",
        "    cv=50,\n",
        "    scoring='accuracy',\n",
        "    verbose=0)"
      ],
      "execution_count": null,
      "outputs": []
    },
    {
      "cell_type": "code",
      "metadata": {
        "colab": {
          "base_uri": "https://localhost:8080/"
        },
        "id": "qpgI5Yqs_LAU",
        "outputId": "9964412d-0229-4272-ea53-c2b9cc636249"
      },
      "source": [
        "optimal_params1.fit(X_train1,y_train1,)"
      ],
      "execution_count": null,
      "outputs": [
        {
          "output_type": "execute_result",
          "data": {
            "text/plain": [
              "GridSearchCV(cv=50, error_score=nan,\n",
              "             estimator=DecisionTreeClassifier(ccp_alpha=0.0, class_weight=None,\n",
              "                                              criterion='gini', max_depth=None,\n",
              "                                              max_features=None,\n",
              "                                              max_leaf_nodes=None,\n",
              "                                              min_impurity_decrease=0.0,\n",
              "                                              min_impurity_split=None,\n",
              "                                              min_samples_leaf=1,\n",
              "                                              min_samples_split=2,\n",
              "                                              min_weight_fraction_leaf=0.0,\n",
              "                                              presort='deprecated',\n",
              "                                              random_state=None,\n",
              "                                              splitter='best'),\n",
              "             iid='deprecated', n_jobs=None,\n",
              "             param_grid=[{'criterion': ['gini', 'entropy'],\n",
              "                          'max_depth': [2, 3, 4, 5, 6, 7, 8, 9, 10, 11, 12, 13,\n",
              "                                        14, 15, 16, 17, 18, 19, 20, 21, 22, 23,\n",
              "                                        24, 25, 26, 27, 28, 29, 30, 31, ...]}],\n",
              "             pre_dispatch='2*n_jobs', refit=True, return_train_score=False,\n",
              "             scoring='accuracy', verbose=0)"
            ]
          },
          "metadata": {
            "tags": []
          },
          "execution_count": 507
        }
      ]
    },
    {
      "cell_type": "code",
      "metadata": {
        "colab": {
          "base_uri": "https://localhost:8080/"
        },
        "id": "0QtYLAy5_WEs",
        "outputId": "a8a20666-6277-49ac-9d2b-3b000a72c2d2"
      },
      "source": [
        "print(optimal_params1.best_params_)"
      ],
      "execution_count": null,
      "outputs": [
        {
          "output_type": "stream",
          "text": [
            "{'criterion': 'gini', 'max_depth': 3}\n"
          ],
          "name": "stdout"
        }
      ]
    },
    {
      "cell_type": "code",
      "metadata": {
        "id": "wzl3a_Vn_YcE"
      },
      "source": [
        "model1_optimized=DecisionTreeClassifier(criterion='gini',max_depth=3)"
      ],
      "execution_count": null,
      "outputs": []
    },
    {
      "cell_type": "code",
      "metadata": {
        "colab": {
          "base_uri": "https://localhost:8080/"
        },
        "id": "qkDiDbADEQb1",
        "outputId": "4b70060c-047f-49e1-b3c0-e27507dcf26e"
      },
      "source": [
        "model1_optimized.fit(X_train1,y_train1)"
      ],
      "execution_count": null,
      "outputs": [
        {
          "output_type": "execute_result",
          "data": {
            "text/plain": [
              "DecisionTreeClassifier(ccp_alpha=0.0, class_weight=None, criterion='gini',\n",
              "                       max_depth=3, max_features=None, max_leaf_nodes=None,\n",
              "                       min_impurity_decrease=0.0, min_impurity_split=None,\n",
              "                       min_samples_leaf=1, min_samples_split=2,\n",
              "                       min_weight_fraction_leaf=0.0, presort='deprecated',\n",
              "                       random_state=None, splitter='best')"
            ]
          },
          "metadata": {
            "tags": []
          },
          "execution_count": 518
        }
      ]
    },
    {
      "cell_type": "code",
      "metadata": {
        "id": "1oayIeWMEWHi"
      },
      "source": [
        "prediction_test1_optimized = model1_optimized.predict(X_test1)"
      ],
      "execution_count": null,
      "outputs": []
    },
    {
      "cell_type": "code",
      "metadata": {
        "colab": {
          "base_uri": "https://localhost:8080/"
        },
        "id": "w3UlFheGEjEs",
        "outputId": "7d838ebf-c5a4-42d7-a683-2fc819ddcb5c"
      },
      "source": [
        "print (\"Accuracy = \", metrics.accuracy_score(y_test1, prediction_test1_optimized))"
      ],
      "execution_count": null,
      "outputs": [
        {
          "output_type": "stream",
          "text": [
            "Accuracy =  0.7244094488188977\n"
          ],
          "name": "stdout"
        }
      ]
    },
    {
      "cell_type": "markdown",
      "metadata": {
        "id": "CROczf2iE278"
      },
      "source": [
        "\n",
        "***nous avons obtenue une Accuracy plus bonne que la prémiére mais moins bonne que l'Accuracy générale ***"
      ]
    },
    {
      "cell_type": "code",
      "metadata": {
        "id": "eJaINWdxEyyE"
      },
      "source": [
        "#deuxiéme catégorie (ship)\n",
        "#en refaisant la même chose \n",
        "model2=DecisionTreeClassifier()"
      ],
      "execution_count": null,
      "outputs": []
    },
    {
      "cell_type": "code",
      "metadata": {
        "colab": {
          "base_uri": "https://localhost:8080/"
        },
        "id": "cuiMuEDqFNZj",
        "outputId": "7305d503-3f14-4e27-8370-03310ac47732"
      },
      "source": [
        "model2.fit(X_train2,y_train2)"
      ],
      "execution_count": null,
      "outputs": [
        {
          "output_type": "execute_result",
          "data": {
            "text/plain": [
              "DecisionTreeClassifier(ccp_alpha=0.0, class_weight=None, criterion='gini',\n",
              "                       max_depth=None, max_features=None, max_leaf_nodes=None,\n",
              "                       min_impurity_decrease=0.0, min_impurity_split=None,\n",
              "                       min_samples_leaf=1, min_samples_split=2,\n",
              "                       min_weight_fraction_leaf=0.0, presort='deprecated',\n",
              "                       random_state=None, splitter='best')"
            ]
          },
          "metadata": {
            "tags": []
          },
          "execution_count": 526
        }
      ]
    },
    {
      "cell_type": "code",
      "metadata": {
        "id": "Kx8AHnU8FTpE"
      },
      "source": [
        "prediction_test2 = model2.predict(X_test2)"
      ],
      "execution_count": null,
      "outputs": []
    },
    {
      "cell_type": "code",
      "metadata": {
        "colab": {
          "base_uri": "https://localhost:8080/"
        },
        "id": "d-n9W4NFFaSm",
        "outputId": "fd895fae-2d67-444c-bf4a-353e2471a152"
      },
      "source": [
        "#l'Accuracy du deuxiéme modéle \n",
        "print (\"Accuracy = \", metrics.accuracy_score(y_test2, prediction_test2))"
      ],
      "execution_count": null,
      "outputs": [
        {
          "output_type": "stream",
          "text": [
            "Accuracy =  0.6338546458141674\n"
          ],
          "name": "stdout"
        }
      ]
    },
    {
      "cell_type": "code",
      "metadata": {
        "id": "IqO0-s5oGGvE"
      },
      "source": [
        "#tpujours , nous utilisions la validation croisée pour l'augmentée \n",
        "optimal_params2 = GridSearchCV(\n",
        "    DecisionTreeClassifier(),\n",
        "    param_grid,\n",
        "    cv=50,\n",
        "    scoring='accuracy',\n",
        "    verbose=0)"
      ],
      "execution_count": null,
      "outputs": []
    },
    {
      "cell_type": "code",
      "metadata": {
        "colab": {
          "base_uri": "https://localhost:8080/"
        },
        "id": "v3wmI_baGNo0",
        "outputId": "bb670e3c-2d23-44cc-a4d9-485d6f960660"
      },
      "source": [
        "optimal_params2.fit(X_train2,y_train2)"
      ],
      "execution_count": null,
      "outputs": [
        {
          "output_type": "execute_result",
          "data": {
            "text/plain": [
              "GridSearchCV(cv=50, error_score=nan,\n",
              "             estimator=DecisionTreeClassifier(ccp_alpha=0.0, class_weight=None,\n",
              "                                              criterion='gini', max_depth=None,\n",
              "                                              max_features=None,\n",
              "                                              max_leaf_nodes=None,\n",
              "                                              min_impurity_decrease=0.0,\n",
              "                                              min_impurity_split=None,\n",
              "                                              min_samples_leaf=1,\n",
              "                                              min_samples_split=2,\n",
              "                                              min_weight_fraction_leaf=0.0,\n",
              "                                              presort='deprecated',\n",
              "                                              random_state=None,\n",
              "                                              splitter='best'),\n",
              "             iid='deprecated', n_jobs=None,\n",
              "             param_grid=[{'criterion': ['gini', 'entropy'],\n",
              "                          'max_depth': [2, 3, 4, 5, 6, 7, 8, 9, 10, 11, 12, 13,\n",
              "                                        14, 15, 16, 17, 18, 19, 20, 21, 22, 23,\n",
              "                                        24, 25, 26, 27, 28, 29, 30, 31, ...]}],\n",
              "             pre_dispatch='2*n_jobs', refit=True, return_train_score=False,\n",
              "             scoring='accuracy', verbose=0)"
            ]
          },
          "metadata": {
            "tags": []
          },
          "execution_count": 530
        }
      ]
    },
    {
      "cell_type": "code",
      "metadata": {
        "colab": {
          "base_uri": "https://localhost:8080/"
        },
        "id": "kAHPIY7jGV1s",
        "outputId": "9ad271e0-fdf8-4dd4-e718-34f2b8921914"
      },
      "source": [
        "print(optimal_params2.best_params_)"
      ],
      "execution_count": null,
      "outputs": [
        {
          "output_type": "stream",
          "text": [
            "{'criterion': 'gini', 'max_depth': 5}\n"
          ],
          "name": "stdout"
        }
      ]
    },
    {
      "cell_type": "code",
      "metadata": {
        "id": "yKNuOxTTGdis"
      },
      "source": [
        "model2_optimized=DecisionTreeClassifier(criterion='gini',max_depth=5)"
      ],
      "execution_count": null,
      "outputs": []
    },
    {
      "cell_type": "code",
      "metadata": {
        "colab": {
          "base_uri": "https://localhost:8080/"
        },
        "id": "FWnCp_NLGkYc",
        "outputId": "207a94c9-698d-48c4-8ab7-613e09811088"
      },
      "source": [
        "model2_optimized.fit(X_train2,y_train2)"
      ],
      "execution_count": null,
      "outputs": [
        {
          "output_type": "execute_result",
          "data": {
            "text/plain": [
              "DecisionTreeClassifier(ccp_alpha=0.0, class_weight=None, criterion='gini',\n",
              "                       max_depth=5, max_features=None, max_leaf_nodes=None,\n",
              "                       min_impurity_decrease=0.0, min_impurity_split=None,\n",
              "                       min_samples_leaf=1, min_samples_split=2,\n",
              "                       min_weight_fraction_leaf=0.0, presort='deprecated',\n",
              "                       random_state=None, splitter='best')"
            ]
          },
          "metadata": {
            "tags": []
          },
          "execution_count": 545
        }
      ]
    },
    {
      "cell_type": "code",
      "metadata": {
        "id": "SohYkwrJGnU7"
      },
      "source": [
        "prediction_test2_optimized = model2_optimized.predict(X_test2)"
      ],
      "execution_count": null,
      "outputs": []
    },
    {
      "cell_type": "code",
      "metadata": {
        "colab": {
          "base_uri": "https://localhost:8080/"
        },
        "id": "ry4xHGjYGw_z",
        "outputId": "7a3c43e0-6533-49b3-e06e-472098a83fe8"
      },
      "source": [
        "print (\"Accuracy = \", metrics.accuracy_score(y_test2, prediction_test2_optimized))"
      ],
      "execution_count": null,
      "outputs": [
        {
          "output_type": "stream",
          "text": [
            "Accuracy =  0.7203311867525299\n"
          ],
          "name": "stdout"
        }
      ]
    },
    {
      "cell_type": "markdown",
      "metadata": {
        "id": "2ZwjwkNjKmfw"
      },
      "source": [
        "\n",
        "*** pratiquement la même chose , nous avons essayé de l'augmentée mais toujours la même chose , ca ne dépasse pas celle du modéle générale ***\n",
        "\n",
        "*** là Nous sentons que cette colonne (mode of shipment ) , ça ne donnera pas de bonne résulat, mais quand même , nous terminerons l'autre catégorie et  nous allons voir  ***"
      ]
    },
    {
      "cell_type": "code",
      "metadata": {
        "id": "Z2OpwfXlK0J2"
      },
      "source": [
        "#troisiéme catégorie (road)\n",
        "model3=DecisionTreeClassifier()"
      ],
      "execution_count": null,
      "outputs": []
    },
    {
      "cell_type": "code",
      "metadata": {
        "colab": {
          "base_uri": "https://localhost:8080/"
        },
        "id": "P0QHCOFdK0J4",
        "outputId": "a36ff7d0-c3a0-4b4c-85d6-51d596a690c2"
      },
      "source": [
        "model3.fit(X_train3,y_train3)"
      ],
      "execution_count": null,
      "outputs": [
        {
          "output_type": "execute_result",
          "data": {
            "text/plain": [
              "DecisionTreeClassifier(ccp_alpha=0.0, class_weight=None, criterion='gini',\n",
              "                       max_depth=None, max_features=None, max_leaf_nodes=None,\n",
              "                       min_impurity_decrease=0.0, min_impurity_split=None,\n",
              "                       min_samples_leaf=1, min_samples_split=2,\n",
              "                       min_weight_fraction_leaf=0.0, presort='deprecated',\n",
              "                       random_state=None, splitter='best')"
            ]
          },
          "metadata": {
            "tags": []
          },
          "execution_count": 557
        }
      ]
    },
    {
      "cell_type": "code",
      "metadata": {
        "id": "BF5MmTILK0J5"
      },
      "source": [
        "prediction_test3 = model3.predict(X_test3)"
      ],
      "execution_count": null,
      "outputs": []
    },
    {
      "cell_type": "code",
      "metadata": {
        "colab": {
          "base_uri": "https://localhost:8080/"
        },
        "id": "EurwQL1TK0J6",
        "outputId": "a315f936-317a-4cef-b315-7e586bbe5286"
      },
      "source": [
        "#l'Accuracy \n",
        "print (\"Accuracy = \", metrics.accuracy_score(y_test3, prediction_test3))"
      ],
      "execution_count": null,
      "outputs": [
        {
          "output_type": "stream",
          "text": [
            "Accuracy =  0.6307692307692307\n"
          ],
          "name": "stdout"
        }
      ]
    },
    {
      "cell_type": "code",
      "metadata": {
        "id": "IkmvlCOvK0J6"
      },
      "source": [
        "#validation croisée \n",
        "optimal_params3 = GridSearchCV(\n",
        "    DecisionTreeClassifier(),\n",
        "    param_grid,\n",
        "    cv=50,\n",
        "    scoring='accuracy',\n",
        "    verbose=0)"
      ],
      "execution_count": null,
      "outputs": []
    },
    {
      "cell_type": "code",
      "metadata": {
        "colab": {
          "base_uri": "https://localhost:8080/"
        },
        "id": "-w-xAelZK0J6",
        "outputId": "4f2fb590-47ad-4a6b-ce7f-10c068fbf869"
      },
      "source": [
        "optimal_params3.fit(X_train3,y_train3)"
      ],
      "execution_count": null,
      "outputs": [
        {
          "output_type": "execute_result",
          "data": {
            "text/plain": [
              "GridSearchCV(cv=50, error_score=nan,\n",
              "             estimator=DecisionTreeClassifier(ccp_alpha=0.0, class_weight=None,\n",
              "                                              criterion='gini', max_depth=None,\n",
              "                                              max_features=None,\n",
              "                                              max_leaf_nodes=None,\n",
              "                                              min_impurity_decrease=0.0,\n",
              "                                              min_impurity_split=None,\n",
              "                                              min_samples_leaf=1,\n",
              "                                              min_samples_split=2,\n",
              "                                              min_weight_fraction_leaf=0.0,\n",
              "                                              presort='deprecated',\n",
              "                                              random_state=None,\n",
              "                                              splitter='best'),\n",
              "             iid='deprecated', n_jobs=None,\n",
              "             param_grid=[{'criterion': ['gini', 'entropy'],\n",
              "                          'max_depth': [2, 3, 4, 5, 6, 7, 8, 9, 10, 11, 12, 13,\n",
              "                                        14, 15, 16, 17, 18, 19, 20, 21, 22, 23,\n",
              "                                        24, 25, 26, 27, 28, 29, 30, 31, ...]}],\n",
              "             pre_dispatch='2*n_jobs', refit=True, return_train_score=False,\n",
              "             scoring='accuracy', verbose=0)"
            ]
          },
          "metadata": {
            "tags": []
          },
          "execution_count": 561
        }
      ]
    },
    {
      "cell_type": "code",
      "metadata": {
        "colab": {
          "base_uri": "https://localhost:8080/"
        },
        "id": "PAtCpgv1K0J7",
        "outputId": "fa888515-93de-4002-f234-08577607dc01"
      },
      "source": [
        "print(optimal_params3.best_params_)"
      ],
      "execution_count": null,
      "outputs": [
        {
          "output_type": "stream",
          "text": [
            "{'criterion': 'gini', 'max_depth': 3}\n"
          ],
          "name": "stdout"
        }
      ]
    },
    {
      "cell_type": "code",
      "metadata": {
        "id": "fHwjNvYqK0J7"
      },
      "source": [
        "model3_optimized=DecisionTreeClassifier(criterion='gini',max_depth=3)"
      ],
      "execution_count": null,
      "outputs": []
    },
    {
      "cell_type": "code",
      "metadata": {
        "colab": {
          "base_uri": "https://localhost:8080/"
        },
        "id": "K5pbD0rbK0J7",
        "outputId": "bff77827-56c0-437e-ca34-30a5bb49c9ce"
      },
      "source": [
        "model3_optimized.fit(X_train3,y_train3)"
      ],
      "execution_count": null,
      "outputs": [
        {
          "output_type": "execute_result",
          "data": {
            "text/plain": [
              "DecisionTreeClassifier(ccp_alpha=0.0, class_weight=None, criterion='gini',\n",
              "                       max_depth=3, max_features=None, max_leaf_nodes=None,\n",
              "                       min_impurity_decrease=0.0, min_impurity_split=None,\n",
              "                       min_samples_leaf=1, min_samples_split=2,\n",
              "                       min_weight_fraction_leaf=0.0, presort='deprecated',\n",
              "                       random_state=None, splitter='best')"
            ]
          },
          "metadata": {
            "tags": []
          },
          "execution_count": 580
        }
      ]
    },
    {
      "cell_type": "code",
      "metadata": {
        "id": "JufgnMAhK0J7"
      },
      "source": [
        "prediction_test3_optimized = model3_optimized.predict(X_test3)"
      ],
      "execution_count": null,
      "outputs": []
    },
    {
      "cell_type": "code",
      "metadata": {
        "colab": {
          "base_uri": "https://localhost:8080/"
        },
        "id": "9gDyKjaKK0J8",
        "outputId": "d7c8d8a8-d269-4886-fad6-b4551abe9af3"
      },
      "source": [
        "print (\"Accuracy = \", metrics.accuracy_score(y_test3, prediction_test3_optimized))"
      ],
      "execution_count": null,
      "outputs": [
        {
          "output_type": "stream",
          "text": [
            "Accuracy =  0.7423076923076923\n"
          ],
          "name": "stdout"
        }
      ]
    },
    {
      "cell_type": "markdown",
      "metadata": {
        "id": "ozSZJoI3tk_k"
      },
      "source": [
        ""
      ]
    },
    {
      "cell_type": "markdown",
      "metadata": {
        "id": "Tlr2G5_QtlK4"
      },
      "source": [
        "*** olalalala , nous sommes arrivées à ce que nous etions entraine de dire , cette colonne ne fonctionne absolument pas bien .***\n",
        "\n",
        "***d'ou nous sommes obligées de voir avec d'autres colonne et la tester et voir quel resultat va nous donner ***\n",
        "\n",
        "*** tous nos teste sont faits par l'algortihme Arbre de décision ***\n",
        "***Nous  testons avec une autre colonne et nous allons voir ***\n"
      ]
    }
  ]
}